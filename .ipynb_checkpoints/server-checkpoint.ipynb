{
 "cells": [
  {
   "cell_type": "code",
   "execution_count": 1,
   "metadata": {},
   "outputs": [],
   "source": [
    "from collections import defaultdict\n",
    "import pandas as pd\n",
    "import numpy as np\n",
    "import scipy\n",
    "from scipy.sparse.linalg import svds\n",
    "import matplotlib.pyplot as plt\n",
    "import time\n",
    "from flask import Flask, jsonify, request \n",
    "from flask_ngrok import run_with_ngrok\n",
    "import pickle as pkl\n",
    "import json\n",
    "import random"
   ]
  },
  {
   "cell_type": "code",
   "execution_count": 2,
   "metadata": {},
   "outputs": [],
   "source": [
    "df1=pd.read_csv('archive/art1.csv',names=['MAL_ID', 'Name', 'Anime-1', 'Anime-2', 'Anime-3', 'Anime-4', 'Anime-5'], dtype={'MAL_ID': 'str', 'Name': 'str', 'Anime-1': 'str', 'Anime-2': 'str', 'Anime-3': 'str', 'Anime-4': 'str','Anime-5': 'str'})\n",
    "df2=pd.read_csv('archive/sound1.csv',names=['MAL_ID', 'Name', 'Anime-1', 'Anime-2', 'Anime-3', 'Anime-4', 'Anime-5'], dtype={'MAL_ID': 'str', 'Name': 'str', 'Anime-1': 'str', 'Anime-2': 'str', 'Anime-3': 'str', 'Anime-4': 'str','Anime-5': 'str'})\n",
    "df3=pd.read_csv('archive/vibe1.csv',names=['MAL_ID', 'Name', 'Anime-1', 'Anime-2', 'Anime-3', 'Anime-4', 'Anime-5'], dtype={'MAL_ID': 'str', 'Name': 'str', 'Anime-1': 'str', 'Anime-2': 'str', 'Anime-3': 'str', 'Anime-4': 'str','Anime-5': 'str'})\n",
    "df4=pd.read_csv('archive/humor1.csv',names=['MAL_ID', 'Name', 'Anime-1', 'Anime-2', 'Anime-3', 'Anime-4', 'Anime-5'], dtype={'MAL_ID': 'str', 'Name': 'str', 'Anime-1': 'str', 'Anime-2': 'str', 'Anime-3': 'str', 'Anime-4': 'str','Anime-5': 'str'})"
   ]
  },
  {
   "cell_type": "code",
   "execution_count": 3,
   "metadata": {},
   "outputs": [
    {
     "name": "stderr",
     "output_type": "stream",
     "text": [
      "C:\\Users\\rayan\\anaconda3\\lib\\site-packages\\sklearn\\base.py:329: UserWarning: Trying to unpickle estimator NearestNeighbors from version 1.0.2 when using version 0.23.2. This might lead to breaking code or invalid results. Use at your own risk.\n",
      "  warnings.warn(\n"
     ]
    }
   ],
   "source": [
    "model_knn=pkl.load(open('./archive/model.pkl','rb'))\n",
    "anime_pivot=pkl.load(open('./archive/anime_pivot.pkl','rb'))"
   ]
  },
  {
   "cell_type": "code",
   "execution_count": 4,
   "metadata": {},
   "outputs": [],
   "source": [
    "def recommend_anime(anime_id):\n",
    "  distances, indices = model_knn.kneighbors(anime_pivot.loc[anime_id,:].values.reshape(1, -1), n_neighbors = 6)\n",
    "  for i in range(0, len(distances.flatten())):\n",
    "      if i == 0:\n",
    "          print('Recommendations for {0}:\\n'.format(anime_id))\n",
    "      else:\n",
    "          print('{0}: {1}, with distance of {2}:'.format(i, anime_pivot.index[indices.flatten()[i]], distances.flatten()[i]))"
   ]
  },
  {
   "cell_type": "code",
   "execution_count": 5,
   "metadata": {},
   "outputs": [],
   "source": [
    "from operator import itemgetter\n",
    "from heapq import nsmallest\n",
    "\n",
    "def generate_recommendations(anime_dict,n,K):\n",
    "  recommend_dict = {}\n",
    "  for anime in anime_dict:\n",
    "    anime=int(anime)\n",
    "    try:\n",
    "        distances, indices = model_knn.kneighbors(anime_pivot.loc[anime,:].values.reshape(1, -1), n_neighbors = n)\n",
    "    except KeyError:\n",
    "        continue\n",
    "\n",
    "    for i in range(0, len(distances.flatten())):\n",
    "        if i == 0:\n",
    "          continue\n",
    "        else:\n",
    "            dist=distances.flatten()[i]/float(anime_dict[str(anime)])\n",
    "            id=str(anime_pivot.index[indices.flatten()[i]])\n",
    "            \n",
    "            if not(id in anime_dict.keys() or id in recommend_dict.keys()):\n",
    "              recommend_dict[id]=dist\n",
    "            \n",
    "            if (id in recommend_dict.keys()):\n",
    "                if (float(dist)<float(recommend_dict[id])):\n",
    "                    recommend_dict[id]=dist\n",
    "\n",
    "  #res = dict(sorted(recommend_dict.items(), key = itemgetter(1))[:K])\n",
    "  res = nsmallest(K, recommend_dict, key = recommend_dict.get)\n",
    "  return res\n",
    "#find n smallest dists in reccomend_dict and return          "
   ]
  },
  {
   "cell_type": "code",
   "execution_count": 7,
   "metadata": {},
   "outputs": [],
   "source": [
    "from operator import itemgetter\n",
    "from heapq import nsmallest\n",
    "\n",
    "def generate_s_recommendations(anime_dict,n,K):\n",
    "    \n",
    "    recommend_dict = {}\n",
    "    recommend_dict1 = {}\n",
    "    recommend_dict2 = {}\n",
    "    recommend_dict3 = {}\n",
    "    recommend_dict4 = {}\n",
    "    recommend_arr1 = []\n",
    "    recommend_arr2 = []\n",
    "    recommend_arr3 = []\n",
    "    recommend_arr4 = []\n",
    "\n",
    "\n",
    "    for anime in anime_dict:\n",
    "        anime=int(anime)\n",
    "        try:\n",
    "            distances, indices = model_knn.kneighbors(anime_pivot.loc[anime,:].values.reshape(1, -1), n_neighbors = n)\n",
    "            recommend_arr1=recommend_arr1+df1.loc[df1['MAL_ID']==str(anime),['Anime-1', 'Anime-2', 'Anime-3', 'Anime-4', 'Anime-5']].values.tolist()[0]\n",
    "            recommend_arr2=recommend_arr2+df2.loc[df2['MAL_ID']==str(anime),['Anime-1', 'Anime-2', 'Anime-3', 'Anime-4', 'Anime-5']].values.tolist()[0]\n",
    "            recommend_arr3=recommend_arr3+df3.loc[df3['MAL_ID']==str(anime),['Anime-1', 'Anime-2', 'Anime-3', 'Anime-4', 'Anime-5']].values.tolist()[0]\n",
    "            recommend_arr4=recommend_arr4+df4.loc[df4['MAL_ID']==str(anime),['Anime-1', 'Anime-2', 'Anime-3', 'Anime-4', 'Anime-5']].values.tolist()[0]\n",
    "\n",
    "        except KeyError:\n",
    "            continue\n",
    "\n",
    "        for i in range(0, len(distances.flatten())):\n",
    "            if i == 0:\n",
    "              continue\n",
    "            else:\n",
    "                dist=distances.flatten()[i]/float(anime_dict[str(anime)])\n",
    "                id=str(anime_pivot.index[indices.flatten()[i]])\n",
    "                if not(id in anime_dict.keys() or id in recommend_dict.keys()):\n",
    "                  recommend_dict[id]=dist\n",
    "                \n",
    "                if (id in recommend_dict.keys()):\n",
    "                    if (float(dist)<float(recommend_dict[id])):\n",
    "                        recommend_dict[id]=dist\n",
    "\n",
    "\n",
    "    recommend_dict={k:v for (k,v) in recommend_dict.items() if v < 0.04}\n",
    "\n",
    "    for anime in recommend_arr1:\n",
    "        if(str(anime) in recommend_dict.keys()):\n",
    "            recommend_dict1[anime]=recommend_dict[anime]\n",
    "    \n",
    "\n",
    "                \n",
    "    for anime in recommend_arr2:\n",
    "        if(str(anime) in recommend_dict.keys()):\n",
    "            recommend_dict2[anime]=recommend_dict[anime]\n",
    "            \n",
    "\n",
    "\n",
    "    for anime in recommend_arr3:\n",
    "        if(str(anime) in recommend_dict.keys()):\n",
    "            recommend_dict3[anime]=recommend_dict[anime]\n",
    "            \n",
    "\n",
    "    for anime in recommend_arr4:\n",
    "        if(str(anime) in recommend_dict.keys()):\n",
    "            recommend_dict4[anime]=recommend_dict[anime]\n",
    "            \n",
    "                \n",
    "        \n",
    "\n",
    "    #res = dict(sorted(recommend_dict.items(), key = itemgetter(1))[:K])\n",
    "\n",
    "    res1=list(recommend_dict1.keys())\n",
    "    random.shuffle(res1)\n",
    "    res2=list(recommend_dict2.keys())\n",
    "    random.shuffle(res2)\n",
    "    res3=list(recommend_dict3.keys())\n",
    "    random.shuffle(res3)\n",
    "    res4=list(recommend_dict4.keys())\n",
    "    random.shuffle(res4)\n",
    "    \n",
    "    \n",
    "\n",
    "    return res1, res2, res3, res4 \n",
    "#find n smallest dists in reccomend_dict and return       "
   ]
  },
  {
   "cell_type": "code",
   "execution_count": null,
   "metadata": {},
   "outputs": [
    {
     "name": "stdout",
     "output_type": "stream",
     "text": [
      " * Serving Flask app \"__main__\" (lazy loading)\n",
      " * Environment: production\n",
      "   WARNING: This is a development server. Do not use it in a production deployment.\n",
      "   Use a production WSGI server instead.\n",
      " * Debug mode: off\n"
     ]
    },
    {
     "name": "stderr",
     "output_type": "stream",
     "text": [
      " * Running on http://127.0.0.1:5000/ (Press CTRL+C to quit)\n"
     ]
    },
    {
     "name": "stdout",
     "output_type": "stream",
     "text": [
      "{'1': '8', '33352': '9', '6547': '9', '24833': '9', '30654': '9', '1575': '7', '2904': '10', '22297': '8', '28701': '8', '5114': '8', '11061': '8', '249': '7', '6811': '7', '38000': '9', '28497': '6', '9253': '9', '19815': '7'}\n",
      " * Running on http://869c-88-209-32-73.ngrok.io\n",
      " * Traffic stats available on http://127.0.0.1:4040\n"
     ]
    }
   ],
   "source": [
    "app = Flask(__name__)\n",
    "run_with_ngrok(app)\n",
    "  \n",
    "@app.route(\"/api/v1\",methods=['POST'])\n",
    "def recommend():\n",
    "    \n",
    "    json_data = request.get_json()\n",
    "    print(json_data)\n",
    "    recs=generate_recommendations(json_data,10,10)\n",
    "    recs={'Recommendations':list(map(int, recs))}    \n",
    "    return recs\n",
    "\n",
    "@app.route(\"/api/v2\",methods=['POST'])\n",
    "def recommendA():\n",
    "    \n",
    "    json_data = request.get_json()\n",
    "    print(json_data)\n",
    "    rec1,rec2,rec3,rec4=generate_s_recommendations(json_data,10,10)\n",
    "    recs={'art':list(map(int, rec1)), 'sound':list(map(int, rec2)),'vibe':list(map(int, rec3)),'humor':list(map(int, rec4))}    \n",
    "    return recs\n",
    "  \n",
    "  \n",
    "if __name__ == \"__main__\":\n",
    "  app.run()"
   ]
  },
  {
   "cell_type": "code",
   "execution_count": null,
   "metadata": {},
   "outputs": [],
   "source": []
  }
 ],
 "metadata": {
  "kernelspec": {
   "display_name": "Python 3",
   "language": "python",
   "name": "python3"
  },
  "language_info": {
   "codemirror_mode": {
    "name": "ipython",
    "version": 3
   },
   "file_extension": ".py",
   "mimetype": "text/x-python",
   "name": "python",
   "nbconvert_exporter": "python",
   "pygments_lexer": "ipython3",
   "version": "3.8.5"
  }
 },
 "nbformat": 4,
 "nbformat_minor": 4
}
